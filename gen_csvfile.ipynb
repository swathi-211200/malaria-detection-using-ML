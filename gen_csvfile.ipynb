{
 "cells": [
  {
   "cell_type": "code",
   "execution_count": 7,
   "metadata": {},
   "outputs": [],
   "source": [
    "import cv2,os\n",
    "import numpy as np\n",
    "import csv\n",
    "import glob"
   ]
  },
  {
   "cell_type": "code",
   "execution_count": 8,
   "metadata": {},
   "outputs": [],
   "source": [
    "file = open(\"csv/dataset.csv\",\"w\")\n",
    "label = \"Parasitized\"\n",
    "dirList = glob.glob(\"cell_images/\"+label+\"/*.png\")"
   ]
  },
  {
   "cell_type": "code",
   "execution_count": 9,
   "metadata": {},
   "outputs": [],
   "source": [
    "#Label,area_0,area_1,area_2,area_3,area_4\n",
    "file.write(\"Label,area_0,area_1,area_2,area_3,area_4\\n\")\n",
    "for img_path in dirList:\n",
    "\n",
    "    im = cv2.imread(img_path)#read\n",
    "    \n",
    "    im = cv2.GaussianBlur(im,(5,5),2)#blur\n",
    "\n",
    "\n",
    "\n",
    "    im_gray = cv2.cvtColor(im,cv2.COLOR_BGR2GRAY)#grey\n",
    "\n",
    "    ret,thresh = cv2.threshold(im_gray,127,255,0)#thresholding\n",
    "    contours,_ = cv2.findContours(thresh,1,2)#contouring\n",
    "\n",
    "\n",
    "    file.write(\"\\\"\"+label+\"\\\"\")\n",
    "    file.write(\",\")\n",
    "    \n",
    "    try:\n",
    "        area = cv2.contourArea(contours[1])\n",
    "        file.write(str(area))\n",
    "    except:\n",
    "        file.write(\"0\")\n",
    "    \n",
    "    for i in range(1,5):\n",
    "        file.write(\",\")\n",
    "        try:\n",
    "            area = cv2.contourArea(contours[i])\n",
    "            file.write(str(area))\n",
    "        except:\n",
    "            file.write(\"0\")\n",
    "\n",
    "        \n",
    "\n",
    "\n",
    "    file.write(\"\\n\")\n"
   ]
  },
  {
   "cell_type": "code",
   "execution_count": 10,
   "metadata": {},
   "outputs": [],
   "source": [
    "label = \"Uninfected\"\n",
    "dirList = glob.glob(\"cell_images/\"+label+\"/*.png\")"
   ]
  },
  {
   "cell_type": "code",
   "execution_count": 11,
   "metadata": {},
   "outputs": [],
   "source": [
    "#Label,area_0,area_1,area_2,area_3,area_4\n",
    "\n",
    "for img_path in dirList:\n",
    "\n",
    "    im = cv2.imread(img_path)\n",
    "    \n",
    "    im = cv2.GaussianBlur(im,(5,5),2)\n",
    "\n",
    "\n",
    "\n",
    "    im_gray = cv2.cvtColor(im,cv2.COLOR_BGR2GRAY)\n",
    "\n",
    "    ret,thresh = cv2.threshold(im_gray,127,255,0)\n",
    "    contours,_ = cv2.findContours(thresh,1,2)\n",
    "\n",
    "\n",
    "    file.write(\"\\\"\"+label+\"\\\"\")\n",
    "    file.write(\",\")\n",
    "    \n",
    "    try:\n",
    "        area = cv2.contourArea(contours[1])\n",
    "        file.write(str(area))\n",
    "    except:\n",
    "        file.write(\"0\")\n",
    "    \n",
    "    for i in range(1,5):\n",
    "        file.write(\",\")\n",
    "        try:\n",
    "            area = cv2.contourArea(contours[i])\n",
    "            file.write(str(area))\n",
    "        except:\n",
    "            file.write(\"0\")\n",
    "\n",
    "        \n",
    "\n",
    "\n",
    "    file.write(\"\\n\")\n"
   ]
  },
  {
   "cell_type": "code",
   "execution_count": 12,
   "metadata": {},
   "outputs": [],
   "source": [
    "file.close()"
   ]
  },
  {
   "cell_type": "code",
   "execution_count": null,
   "metadata": {},
   "outputs": [],
   "source": []
  }
 ],
 "metadata": {
  "kernelspec": {
   "display_name": "Python 3",
   "language": "python",
   "name": "python3"
  },
  "language_info": {
   "codemirror_mode": {
    "name": "ipython",
    "version": 3
   },
   "file_extension": ".py",
   "mimetype": "text/x-python",
   "name": "python",
   "nbconvert_exporter": "python",
   "pygments_lexer": "ipython3",
   "version": "3.8.5"
  }
 },
 "nbformat": 4,
 "nbformat_minor": 4
}
